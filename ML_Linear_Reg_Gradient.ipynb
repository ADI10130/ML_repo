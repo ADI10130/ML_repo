{
  "nbformat": 4,
  "nbformat_minor": 0,
  "metadata": {
    "colab": {
      "provenance": [],
      "include_colab_link": true
    },
    "kernelspec": {
      "name": "python3",
      "display_name": "Python 3"
    },
    "language_info": {
      "name": "python"
    }
  },
  "cells": [
    {
      "cell_type": "markdown",
      "metadata": {
        "id": "view-in-github",
        "colab_type": "text"
      },
      "source": [
        "<a href=\"https://colab.research.google.com/github/ADI10130/ML_repo/blob/main/ML_Linear_Reg_Gradient.ipynb\" target=\"_parent\"><img src=\"https://colab.research.google.com/assets/colab-badge.svg\" alt=\"Open In Colab\"/></a>"
      ]
    },
    {
      "cell_type": "markdown",
      "source": [
        "# Machine Learning: Gradient Descent Algorithm\n",
        "### Name: Aditya Arvikar"
      ],
      "metadata": {
        "id": "UsSNHGeSOoxV"
      }
    },
    {
      "cell_type": "markdown",
      "source": [
        "## Import Necessary Libraries"
      ],
      "metadata": {
        "id": "AB8SZyNzOVk4"
      }
    },
    {
      "cell_type": "code",
      "execution_count": 4,
      "metadata": {
        "id": "aMbC0mCZ1oVu"
      },
      "outputs": [],
      "source": [
        "import numpy as np\n",
        "import pandas as pd\n",
        "import matplotlib.pyplot as plt\n",
        "from sklearn.model_selection import train_test_split"
      ]
    },
    {
      "cell_type": "code",
      "source": [
        "df = pd.read_csv('/content/ex1data1.csv',names = ['Population','Profit'])"
      ],
      "metadata": {
        "id": "r9IhOpxo2p47"
      },
      "execution_count": 5,
      "outputs": []
    },
    {
      "cell_type": "code",
      "source": [
        "df.head()"
      ],
      "metadata": {
        "colab": {
          "base_uri": "https://localhost:8080/",
          "height": 0
        },
        "id": "XQhJMDe-dRk8",
        "outputId": "ba922f4d-adee-4531-e30f-414a72f68e69"
      },
      "execution_count": 6,
      "outputs": [
        {
          "output_type": "execute_result",
          "data": {
            "text/plain": [
              "   Population   Profit\n",
              "0      6.1101  17.5920\n",
              "1      5.5277   9.1302\n",
              "2      8.5186  13.6620\n",
              "3      7.0032  11.8540\n",
              "4      5.8598   6.8233"
            ],
            "text/html": [
              "\n",
              "  <div id=\"df-d50a92c0-fe83-49e4-96df-4a6e5398226e\" class=\"colab-df-container\">\n",
              "    <div>\n",
              "<style scoped>\n",
              "    .dataframe tbody tr th:only-of-type {\n",
              "        vertical-align: middle;\n",
              "    }\n",
              "\n",
              "    .dataframe tbody tr th {\n",
              "        vertical-align: top;\n",
              "    }\n",
              "\n",
              "    .dataframe thead th {\n",
              "        text-align: right;\n",
              "    }\n",
              "</style>\n",
              "<table border=\"1\" class=\"dataframe\">\n",
              "  <thead>\n",
              "    <tr style=\"text-align: right;\">\n",
              "      <th></th>\n",
              "      <th>Population</th>\n",
              "      <th>Profit</th>\n",
              "    </tr>\n",
              "  </thead>\n",
              "  <tbody>\n",
              "    <tr>\n",
              "      <th>0</th>\n",
              "      <td>6.1101</td>\n",
              "      <td>17.5920</td>\n",
              "    </tr>\n",
              "    <tr>\n",
              "      <th>1</th>\n",
              "      <td>5.5277</td>\n",
              "      <td>9.1302</td>\n",
              "    </tr>\n",
              "    <tr>\n",
              "      <th>2</th>\n",
              "      <td>8.5186</td>\n",
              "      <td>13.6620</td>\n",
              "    </tr>\n",
              "    <tr>\n",
              "      <th>3</th>\n",
              "      <td>7.0032</td>\n",
              "      <td>11.8540</td>\n",
              "    </tr>\n",
              "    <tr>\n",
              "      <th>4</th>\n",
              "      <td>5.8598</td>\n",
              "      <td>6.8233</td>\n",
              "    </tr>\n",
              "  </tbody>\n",
              "</table>\n",
              "</div>\n",
              "    <div class=\"colab-df-buttons\">\n",
              "\n",
              "  <div class=\"colab-df-container\">\n",
              "    <button class=\"colab-df-convert\" onclick=\"convertToInteractive('df-d50a92c0-fe83-49e4-96df-4a6e5398226e')\"\n",
              "            title=\"Convert this dataframe to an interactive table.\"\n",
              "            style=\"display:none;\">\n",
              "\n",
              "  <svg xmlns=\"http://www.w3.org/2000/svg\" height=\"24px\" viewBox=\"0 -960 960 960\">\n",
              "    <path d=\"M120-120v-720h720v720H120Zm60-500h600v-160H180v160Zm220 220h160v-160H400v160Zm0 220h160v-160H400v160ZM180-400h160v-160H180v160Zm440 0h160v-160H620v160ZM180-180h160v-160H180v160Zm440 0h160v-160H620v160Z\"/>\n",
              "  </svg>\n",
              "    </button>\n",
              "\n",
              "  <style>\n",
              "    .colab-df-container {\n",
              "      display:flex;\n",
              "      gap: 12px;\n",
              "    }\n",
              "\n",
              "    .colab-df-convert {\n",
              "      background-color: #E8F0FE;\n",
              "      border: none;\n",
              "      border-radius: 50%;\n",
              "      cursor: pointer;\n",
              "      display: none;\n",
              "      fill: #1967D2;\n",
              "      height: 32px;\n",
              "      padding: 0 0 0 0;\n",
              "      width: 32px;\n",
              "    }\n",
              "\n",
              "    .colab-df-convert:hover {\n",
              "      background-color: #E2EBFA;\n",
              "      box-shadow: 0px 1px 2px rgba(60, 64, 67, 0.3), 0px 1px 3px 1px rgba(60, 64, 67, 0.15);\n",
              "      fill: #174EA6;\n",
              "    }\n",
              "\n",
              "    .colab-df-buttons div {\n",
              "      margin-bottom: 4px;\n",
              "    }\n",
              "\n",
              "    [theme=dark] .colab-df-convert {\n",
              "      background-color: #3B4455;\n",
              "      fill: #D2E3FC;\n",
              "    }\n",
              "\n",
              "    [theme=dark] .colab-df-convert:hover {\n",
              "      background-color: #434B5C;\n",
              "      box-shadow: 0px 1px 3px 1px rgba(0, 0, 0, 0.15);\n",
              "      filter: drop-shadow(0px 1px 2px rgba(0, 0, 0, 0.3));\n",
              "      fill: #FFFFFF;\n",
              "    }\n",
              "  </style>\n",
              "\n",
              "    <script>\n",
              "      const buttonEl =\n",
              "        document.querySelector('#df-d50a92c0-fe83-49e4-96df-4a6e5398226e button.colab-df-convert');\n",
              "      buttonEl.style.display =\n",
              "        google.colab.kernel.accessAllowed ? 'block' : 'none';\n",
              "\n",
              "      async function convertToInteractive(key) {\n",
              "        const element = document.querySelector('#df-d50a92c0-fe83-49e4-96df-4a6e5398226e');\n",
              "        const dataTable =\n",
              "          await google.colab.kernel.invokeFunction('convertToInteractive',\n",
              "                                                    [key], {});\n",
              "        if (!dataTable) return;\n",
              "\n",
              "        const docLinkHtml = 'Like what you see? Visit the ' +\n",
              "          '<a target=\"_blank\" href=https://colab.research.google.com/notebooks/data_table.ipynb>data table notebook</a>'\n",
              "          + ' to learn more about interactive tables.';\n",
              "        element.innerHTML = '';\n",
              "        dataTable['output_type'] = 'display_data';\n",
              "        await google.colab.output.renderOutput(dataTable, element);\n",
              "        const docLink = document.createElement('div');\n",
              "        docLink.innerHTML = docLinkHtml;\n",
              "        element.appendChild(docLink);\n",
              "      }\n",
              "    </script>\n",
              "  </div>\n",
              "\n",
              "\n",
              "<div id=\"df-36bd1acc-2635-42c7-8564-8c205c2e00d9\">\n",
              "  <button class=\"colab-df-quickchart\" onclick=\"quickchart('df-36bd1acc-2635-42c7-8564-8c205c2e00d9')\"\n",
              "            title=\"Suggest charts\"\n",
              "            style=\"display:none;\">\n",
              "\n",
              "<svg xmlns=\"http://www.w3.org/2000/svg\" height=\"24px\"viewBox=\"0 0 24 24\"\n",
              "     width=\"24px\">\n",
              "    <g>\n",
              "        <path d=\"M19 3H5c-1.1 0-2 .9-2 2v14c0 1.1.9 2 2 2h14c1.1 0 2-.9 2-2V5c0-1.1-.9-2-2-2zM9 17H7v-7h2v7zm4 0h-2V7h2v10zm4 0h-2v-4h2v4z\"/>\n",
              "    </g>\n",
              "</svg>\n",
              "  </button>\n",
              "\n",
              "<style>\n",
              "  .colab-df-quickchart {\n",
              "      --bg-color: #E8F0FE;\n",
              "      --fill-color: #1967D2;\n",
              "      --hover-bg-color: #E2EBFA;\n",
              "      --hover-fill-color: #174EA6;\n",
              "      --disabled-fill-color: #AAA;\n",
              "      --disabled-bg-color: #DDD;\n",
              "  }\n",
              "\n",
              "  [theme=dark] .colab-df-quickchart {\n",
              "      --bg-color: #3B4455;\n",
              "      --fill-color: #D2E3FC;\n",
              "      --hover-bg-color: #434B5C;\n",
              "      --hover-fill-color: #FFFFFF;\n",
              "      --disabled-bg-color: #3B4455;\n",
              "      --disabled-fill-color: #666;\n",
              "  }\n",
              "\n",
              "  .colab-df-quickchart {\n",
              "    background-color: var(--bg-color);\n",
              "    border: none;\n",
              "    border-radius: 50%;\n",
              "    cursor: pointer;\n",
              "    display: none;\n",
              "    fill: var(--fill-color);\n",
              "    height: 32px;\n",
              "    padding: 0;\n",
              "    width: 32px;\n",
              "  }\n",
              "\n",
              "  .colab-df-quickchart:hover {\n",
              "    background-color: var(--hover-bg-color);\n",
              "    box-shadow: 0 1px 2px rgba(60, 64, 67, 0.3), 0 1px 3px 1px rgba(60, 64, 67, 0.15);\n",
              "    fill: var(--button-hover-fill-color);\n",
              "  }\n",
              "\n",
              "  .colab-df-quickchart-complete:disabled,\n",
              "  .colab-df-quickchart-complete:disabled:hover {\n",
              "    background-color: var(--disabled-bg-color);\n",
              "    fill: var(--disabled-fill-color);\n",
              "    box-shadow: none;\n",
              "  }\n",
              "\n",
              "  .colab-df-spinner {\n",
              "    border: 2px solid var(--fill-color);\n",
              "    border-color: transparent;\n",
              "    border-bottom-color: var(--fill-color);\n",
              "    animation:\n",
              "      spin 1s steps(1) infinite;\n",
              "  }\n",
              "\n",
              "  @keyframes spin {\n",
              "    0% {\n",
              "      border-color: transparent;\n",
              "      border-bottom-color: var(--fill-color);\n",
              "      border-left-color: var(--fill-color);\n",
              "    }\n",
              "    20% {\n",
              "      border-color: transparent;\n",
              "      border-left-color: var(--fill-color);\n",
              "      border-top-color: var(--fill-color);\n",
              "    }\n",
              "    30% {\n",
              "      border-color: transparent;\n",
              "      border-left-color: var(--fill-color);\n",
              "      border-top-color: var(--fill-color);\n",
              "      border-right-color: var(--fill-color);\n",
              "    }\n",
              "    40% {\n",
              "      border-color: transparent;\n",
              "      border-right-color: var(--fill-color);\n",
              "      border-top-color: var(--fill-color);\n",
              "    }\n",
              "    60% {\n",
              "      border-color: transparent;\n",
              "      border-right-color: var(--fill-color);\n",
              "    }\n",
              "    80% {\n",
              "      border-color: transparent;\n",
              "      border-right-color: var(--fill-color);\n",
              "      border-bottom-color: var(--fill-color);\n",
              "    }\n",
              "    90% {\n",
              "      border-color: transparent;\n",
              "      border-bottom-color: var(--fill-color);\n",
              "    }\n",
              "  }\n",
              "</style>\n",
              "\n",
              "  <script>\n",
              "    async function quickchart(key) {\n",
              "      const quickchartButtonEl =\n",
              "        document.querySelector('#' + key + ' button');\n",
              "      quickchartButtonEl.disabled = true;  // To prevent multiple clicks.\n",
              "      quickchartButtonEl.classList.add('colab-df-spinner');\n",
              "      try {\n",
              "        const charts = await google.colab.kernel.invokeFunction(\n",
              "            'suggestCharts', [key], {});\n",
              "      } catch (error) {\n",
              "        console.error('Error during call to suggestCharts:', error);\n",
              "      }\n",
              "      quickchartButtonEl.classList.remove('colab-df-spinner');\n",
              "      quickchartButtonEl.classList.add('colab-df-quickchart-complete');\n",
              "    }\n",
              "    (() => {\n",
              "      let quickchartButtonEl =\n",
              "        document.querySelector('#df-36bd1acc-2635-42c7-8564-8c205c2e00d9 button');\n",
              "      quickchartButtonEl.style.display =\n",
              "        google.colab.kernel.accessAllowed ? 'block' : 'none';\n",
              "    })();\n",
              "  </script>\n",
              "</div>\n",
              "\n",
              "    </div>\n",
              "  </div>\n"
            ],
            "application/vnd.google.colaboratory.intrinsic+json": {
              "type": "dataframe",
              "variable_name": "df",
              "summary": "{\n  \"name\": \"df\",\n  \"rows\": 97,\n  \"fields\": [\n    {\n      \"column\": \"Population\",\n      \"properties\": {\n        \"dtype\": \"number\",\n        \"std\": 3.869883527882332,\n        \"min\": 5.0269,\n        \"max\": 22.203,\n        \"num_unique_values\": 97,\n        \"samples\": [\n          21.279,\n          5.4069,\n          5.3054\n        ],\n        \"semantic_type\": \"\",\n        \"description\": \"\"\n      }\n    },\n    {\n      \"column\": \"Profit\",\n      \"properties\": {\n        \"dtype\": \"number\",\n        \"std\": 5.510262255231544,\n        \"min\": -2.6807,\n        \"max\": 24.147,\n        \"num_unique_values\": 97,\n        \"samples\": [\n          17.929,\n          0.55657,\n          1.9869\n        ],\n        \"semantic_type\": \"\",\n        \"description\": \"\"\n      }\n    }\n  ]\n}"
            }
          },
          "metadata": {},
          "execution_count": 6
        }
      ]
    },
    {
      "cell_type": "code",
      "source": [
        "df.describe()"
      ],
      "metadata": {
        "colab": {
          "base_uri": "https://localhost:8080/",
          "height": 0
        },
        "id": "6ETTuA00dXGy",
        "outputId": "da8300f7-8ae0-47ef-9c6c-d96eb23d9efe"
      },
      "execution_count": 7,
      "outputs": [
        {
          "output_type": "execute_result",
          "data": {
            "text/plain": [
              "       Population     Profit\n",
              "count   97.000000  97.000000\n",
              "mean     8.159800   5.839135\n",
              "std      3.869884   5.510262\n",
              "min      5.026900  -2.680700\n",
              "25%      5.707700   1.986900\n",
              "50%      6.589400   4.562300\n",
              "75%      8.578100   7.046700\n",
              "max     22.203000  24.147000"
            ],
            "text/html": [
              "\n",
              "  <div id=\"df-a017385f-b001-47f2-81b6-cdfb85bd6d0d\" class=\"colab-df-container\">\n",
              "    <div>\n",
              "<style scoped>\n",
              "    .dataframe tbody tr th:only-of-type {\n",
              "        vertical-align: middle;\n",
              "    }\n",
              "\n",
              "    .dataframe tbody tr th {\n",
              "        vertical-align: top;\n",
              "    }\n",
              "\n",
              "    .dataframe thead th {\n",
              "        text-align: right;\n",
              "    }\n",
              "</style>\n",
              "<table border=\"1\" class=\"dataframe\">\n",
              "  <thead>\n",
              "    <tr style=\"text-align: right;\">\n",
              "      <th></th>\n",
              "      <th>Population</th>\n",
              "      <th>Profit</th>\n",
              "    </tr>\n",
              "  </thead>\n",
              "  <tbody>\n",
              "    <tr>\n",
              "      <th>count</th>\n",
              "      <td>97.000000</td>\n",
              "      <td>97.000000</td>\n",
              "    </tr>\n",
              "    <tr>\n",
              "      <th>mean</th>\n",
              "      <td>8.159800</td>\n",
              "      <td>5.839135</td>\n",
              "    </tr>\n",
              "    <tr>\n",
              "      <th>std</th>\n",
              "      <td>3.869884</td>\n",
              "      <td>5.510262</td>\n",
              "    </tr>\n",
              "    <tr>\n",
              "      <th>min</th>\n",
              "      <td>5.026900</td>\n",
              "      <td>-2.680700</td>\n",
              "    </tr>\n",
              "    <tr>\n",
              "      <th>25%</th>\n",
              "      <td>5.707700</td>\n",
              "      <td>1.986900</td>\n",
              "    </tr>\n",
              "    <tr>\n",
              "      <th>50%</th>\n",
              "      <td>6.589400</td>\n",
              "      <td>4.562300</td>\n",
              "    </tr>\n",
              "    <tr>\n",
              "      <th>75%</th>\n",
              "      <td>8.578100</td>\n",
              "      <td>7.046700</td>\n",
              "    </tr>\n",
              "    <tr>\n",
              "      <th>max</th>\n",
              "      <td>22.203000</td>\n",
              "      <td>24.147000</td>\n",
              "    </tr>\n",
              "  </tbody>\n",
              "</table>\n",
              "</div>\n",
              "    <div class=\"colab-df-buttons\">\n",
              "\n",
              "  <div class=\"colab-df-container\">\n",
              "    <button class=\"colab-df-convert\" onclick=\"convertToInteractive('df-a017385f-b001-47f2-81b6-cdfb85bd6d0d')\"\n",
              "            title=\"Convert this dataframe to an interactive table.\"\n",
              "            style=\"display:none;\">\n",
              "\n",
              "  <svg xmlns=\"http://www.w3.org/2000/svg\" height=\"24px\" viewBox=\"0 -960 960 960\">\n",
              "    <path d=\"M120-120v-720h720v720H120Zm60-500h600v-160H180v160Zm220 220h160v-160H400v160Zm0 220h160v-160H400v160ZM180-400h160v-160H180v160Zm440 0h160v-160H620v160ZM180-180h160v-160H180v160Zm440 0h160v-160H620v160Z\"/>\n",
              "  </svg>\n",
              "    </button>\n",
              "\n",
              "  <style>\n",
              "    .colab-df-container {\n",
              "      display:flex;\n",
              "      gap: 12px;\n",
              "    }\n",
              "\n",
              "    .colab-df-convert {\n",
              "      background-color: #E8F0FE;\n",
              "      border: none;\n",
              "      border-radius: 50%;\n",
              "      cursor: pointer;\n",
              "      display: none;\n",
              "      fill: #1967D2;\n",
              "      height: 32px;\n",
              "      padding: 0 0 0 0;\n",
              "      width: 32px;\n",
              "    }\n",
              "\n",
              "    .colab-df-convert:hover {\n",
              "      background-color: #E2EBFA;\n",
              "      box-shadow: 0px 1px 2px rgba(60, 64, 67, 0.3), 0px 1px 3px 1px rgba(60, 64, 67, 0.15);\n",
              "      fill: #174EA6;\n",
              "    }\n",
              "\n",
              "    .colab-df-buttons div {\n",
              "      margin-bottom: 4px;\n",
              "    }\n",
              "\n",
              "    [theme=dark] .colab-df-convert {\n",
              "      background-color: #3B4455;\n",
              "      fill: #D2E3FC;\n",
              "    }\n",
              "\n",
              "    [theme=dark] .colab-df-convert:hover {\n",
              "      background-color: #434B5C;\n",
              "      box-shadow: 0px 1px 3px 1px rgba(0, 0, 0, 0.15);\n",
              "      filter: drop-shadow(0px 1px 2px rgba(0, 0, 0, 0.3));\n",
              "      fill: #FFFFFF;\n",
              "    }\n",
              "  </style>\n",
              "\n",
              "    <script>\n",
              "      const buttonEl =\n",
              "        document.querySelector('#df-a017385f-b001-47f2-81b6-cdfb85bd6d0d button.colab-df-convert');\n",
              "      buttonEl.style.display =\n",
              "        google.colab.kernel.accessAllowed ? 'block' : 'none';\n",
              "\n",
              "      async function convertToInteractive(key) {\n",
              "        const element = document.querySelector('#df-a017385f-b001-47f2-81b6-cdfb85bd6d0d');\n",
              "        const dataTable =\n",
              "          await google.colab.kernel.invokeFunction('convertToInteractive',\n",
              "                                                    [key], {});\n",
              "        if (!dataTable) return;\n",
              "\n",
              "        const docLinkHtml = 'Like what you see? Visit the ' +\n",
              "          '<a target=\"_blank\" href=https://colab.research.google.com/notebooks/data_table.ipynb>data table notebook</a>'\n",
              "          + ' to learn more about interactive tables.';\n",
              "        element.innerHTML = '';\n",
              "        dataTable['output_type'] = 'display_data';\n",
              "        await google.colab.output.renderOutput(dataTable, element);\n",
              "        const docLink = document.createElement('div');\n",
              "        docLink.innerHTML = docLinkHtml;\n",
              "        element.appendChild(docLink);\n",
              "      }\n",
              "    </script>\n",
              "  </div>\n",
              "\n",
              "\n",
              "<div id=\"df-0b7b213b-8bc5-4a85-82c1-1141c64ef095\">\n",
              "  <button class=\"colab-df-quickchart\" onclick=\"quickchart('df-0b7b213b-8bc5-4a85-82c1-1141c64ef095')\"\n",
              "            title=\"Suggest charts\"\n",
              "            style=\"display:none;\">\n",
              "\n",
              "<svg xmlns=\"http://www.w3.org/2000/svg\" height=\"24px\"viewBox=\"0 0 24 24\"\n",
              "     width=\"24px\">\n",
              "    <g>\n",
              "        <path d=\"M19 3H5c-1.1 0-2 .9-2 2v14c0 1.1.9 2 2 2h14c1.1 0 2-.9 2-2V5c0-1.1-.9-2-2-2zM9 17H7v-7h2v7zm4 0h-2V7h2v10zm4 0h-2v-4h2v4z\"/>\n",
              "    </g>\n",
              "</svg>\n",
              "  </button>\n",
              "\n",
              "<style>\n",
              "  .colab-df-quickchart {\n",
              "      --bg-color: #E8F0FE;\n",
              "      --fill-color: #1967D2;\n",
              "      --hover-bg-color: #E2EBFA;\n",
              "      --hover-fill-color: #174EA6;\n",
              "      --disabled-fill-color: #AAA;\n",
              "      --disabled-bg-color: #DDD;\n",
              "  }\n",
              "\n",
              "  [theme=dark] .colab-df-quickchart {\n",
              "      --bg-color: #3B4455;\n",
              "      --fill-color: #D2E3FC;\n",
              "      --hover-bg-color: #434B5C;\n",
              "      --hover-fill-color: #FFFFFF;\n",
              "      --disabled-bg-color: #3B4455;\n",
              "      --disabled-fill-color: #666;\n",
              "  }\n",
              "\n",
              "  .colab-df-quickchart {\n",
              "    background-color: var(--bg-color);\n",
              "    border: none;\n",
              "    border-radius: 50%;\n",
              "    cursor: pointer;\n",
              "    display: none;\n",
              "    fill: var(--fill-color);\n",
              "    height: 32px;\n",
              "    padding: 0;\n",
              "    width: 32px;\n",
              "  }\n",
              "\n",
              "  .colab-df-quickchart:hover {\n",
              "    background-color: var(--hover-bg-color);\n",
              "    box-shadow: 0 1px 2px rgba(60, 64, 67, 0.3), 0 1px 3px 1px rgba(60, 64, 67, 0.15);\n",
              "    fill: var(--button-hover-fill-color);\n",
              "  }\n",
              "\n",
              "  .colab-df-quickchart-complete:disabled,\n",
              "  .colab-df-quickchart-complete:disabled:hover {\n",
              "    background-color: var(--disabled-bg-color);\n",
              "    fill: var(--disabled-fill-color);\n",
              "    box-shadow: none;\n",
              "  }\n",
              "\n",
              "  .colab-df-spinner {\n",
              "    border: 2px solid var(--fill-color);\n",
              "    border-color: transparent;\n",
              "    border-bottom-color: var(--fill-color);\n",
              "    animation:\n",
              "      spin 1s steps(1) infinite;\n",
              "  }\n",
              "\n",
              "  @keyframes spin {\n",
              "    0% {\n",
              "      border-color: transparent;\n",
              "      border-bottom-color: var(--fill-color);\n",
              "      border-left-color: var(--fill-color);\n",
              "    }\n",
              "    20% {\n",
              "      border-color: transparent;\n",
              "      border-left-color: var(--fill-color);\n",
              "      border-top-color: var(--fill-color);\n",
              "    }\n",
              "    30% {\n",
              "      border-color: transparent;\n",
              "      border-left-color: var(--fill-color);\n",
              "      border-top-color: var(--fill-color);\n",
              "      border-right-color: var(--fill-color);\n",
              "    }\n",
              "    40% {\n",
              "      border-color: transparent;\n",
              "      border-right-color: var(--fill-color);\n",
              "      border-top-color: var(--fill-color);\n",
              "    }\n",
              "    60% {\n",
              "      border-color: transparent;\n",
              "      border-right-color: var(--fill-color);\n",
              "    }\n",
              "    80% {\n",
              "      border-color: transparent;\n",
              "      border-right-color: var(--fill-color);\n",
              "      border-bottom-color: var(--fill-color);\n",
              "    }\n",
              "    90% {\n",
              "      border-color: transparent;\n",
              "      border-bottom-color: var(--fill-color);\n",
              "    }\n",
              "  }\n",
              "</style>\n",
              "\n",
              "  <script>\n",
              "    async function quickchart(key) {\n",
              "      const quickchartButtonEl =\n",
              "        document.querySelector('#' + key + ' button');\n",
              "      quickchartButtonEl.disabled = true;  // To prevent multiple clicks.\n",
              "      quickchartButtonEl.classList.add('colab-df-spinner');\n",
              "      try {\n",
              "        const charts = await google.colab.kernel.invokeFunction(\n",
              "            'suggestCharts', [key], {});\n",
              "      } catch (error) {\n",
              "        console.error('Error during call to suggestCharts:', error);\n",
              "      }\n",
              "      quickchartButtonEl.classList.remove('colab-df-spinner');\n",
              "      quickchartButtonEl.classList.add('colab-df-quickchart-complete');\n",
              "    }\n",
              "    (() => {\n",
              "      let quickchartButtonEl =\n",
              "        document.querySelector('#df-0b7b213b-8bc5-4a85-82c1-1141c64ef095 button');\n",
              "      quickchartButtonEl.style.display =\n",
              "        google.colab.kernel.accessAllowed ? 'block' : 'none';\n",
              "    })();\n",
              "  </script>\n",
              "</div>\n",
              "\n",
              "    </div>\n",
              "  </div>\n"
            ],
            "application/vnd.google.colaboratory.intrinsic+json": {
              "type": "dataframe",
              "summary": "{\n  \"name\": \"df\",\n  \"rows\": 8,\n  \"fields\": [\n    {\n      \"column\": \"Population\",\n      \"properties\": {\n        \"dtype\": \"number\",\n        \"std\": 31.784914602764157,\n        \"min\": 3.869883527882332,\n        \"max\": 97.0,\n        \"num_unique_values\": 8,\n        \"samples\": [\n          8.159799999999999,\n          6.5894,\n          97.0\n        ],\n        \"semantic_type\": \"\",\n        \"description\": \"\"\n      }\n    },\n    {\n      \"column\": \"Profit\",\n      \"properties\": {\n        \"dtype\": \"number\",\n        \"std\": 32.87917231164401,\n        \"min\": -2.6807,\n        \"max\": 97.0,\n        \"num_unique_values\": 8,\n        \"samples\": [\n          5.839135051546393,\n          4.5623,\n          97.0\n        ],\n        \"semantic_type\": \"\",\n        \"description\": \"\"\n      }\n    }\n  ]\n}"
            }
          },
          "metadata": {},
          "execution_count": 7
        }
      ]
    },
    {
      "cell_type": "code",
      "source": [
        "df.info()"
      ],
      "metadata": {
        "colab": {
          "base_uri": "https://localhost:8080/"
        },
        "id": "EKVO1bSVdZ7o",
        "outputId": "13fe8230-52cd-4fdc-a46e-4333ede2f2c3"
      },
      "execution_count": 8,
      "outputs": [
        {
          "output_type": "stream",
          "name": "stdout",
          "text": [
            "<class 'pandas.core.frame.DataFrame'>\n",
            "RangeIndex: 97 entries, 0 to 96\n",
            "Data columns (total 2 columns):\n",
            " #   Column      Non-Null Count  Dtype  \n",
            "---  ------      --------------  -----  \n",
            " 0   Population  97 non-null     float64\n",
            " 1   Profit      97 non-null     float64\n",
            "dtypes: float64(2)\n",
            "memory usage: 1.6 KB\n"
          ]
        }
      ]
    },
    {
      "cell_type": "code",
      "source": [
        "x = np.array(df['Population'])\n",
        "y = np.array(df['Profit'])"
      ],
      "metadata": {
        "id": "R9CDfbGSfGzX"
      },
      "execution_count": 9,
      "outputs": []
    },
    {
      "cell_type": "code",
      "source": [
        "x_train,x_test,y_train,y_test = train_test_split(x, y, test_size = 0.2)"
      ],
      "metadata": {
        "id": "3S_hNqfFdfUc"
      },
      "execution_count": 10,
      "outputs": []
    },
    {
      "cell_type": "code",
      "source": [
        "print(f\"x_train has {x_train.shape[0]} elements\")"
      ],
      "metadata": {
        "colab": {
          "base_uri": "https://localhost:8080/"
        },
        "id": "PUcpVkMr44aJ",
        "outputId": "2bb92b89-7a84-4333-bb34-50a52f255fc7"
      },
      "execution_count": 11,
      "outputs": [
        {
          "output_type": "stream",
          "name": "stdout",
          "text": [
            "x_train has 77 elements\n"
          ]
        }
      ]
    },
    {
      "cell_type": "code",
      "source": [
        "plt.scatter(x, y, c='r', marker='x')\n",
        "plt.xlabel('x(i)')\n",
        "plt.ylabel('y(i) [in thousands]')\n",
        "plt.title('Scatter plot for Sales in months')\n",
        "plt.show()"
      ],
      "metadata": {
        "colab": {
          "base_uri": "https://localhost:8080/",
          "height": 0
        },
        "id": "vtuc0mRx5LqQ",
        "outputId": "e7040e1e-107b-4b87-bf3f-0dcab9f9a9ac"
      },
      "execution_count": 12,
      "outputs": [
        {
          "output_type": "display_data",
          "data": {
            "text/plain": [
              "<Figure size 640x480 with 1 Axes>"
            ],
            "image/png": "[encoded data removed]"
          },
          "metadata": {}
        }
      ]
    },
    {
      "cell_type": "markdown",
      "source": [
        "### 1. Define the model [ f(w,b) ]\n"
      ],
      "metadata": {
        "id": "oSoI5VAN6SQL"
      }
    },
    {
      "cell_type": "code",
      "source": [
        "def compute_model_output(x, w, b):\n",
        "    return w * x + b"
      ],
      "metadata": {
        "id": "MWLSsuKS58EQ"
      },
      "execution_count": 13,
      "outputs": []
    },
    {
      "cell_type": "markdown",
      "source": [
        "### 2. Define cost function [ J(w,b) ]"
      ],
      "metadata": {
        "id": "dECzi7a-bGuV"
      }
    },
    {
      "cell_type": "code",
      "source": [
        "def cost_function(y_cap,y_train):\n",
        "  m = y_train.shape[0]\n",
        "  error_sq = (y_cap - y_train)**2\n",
        "  J_wb = np.mean(error_sq)/(2*m)\n",
        "  return J_wb"
      ],
      "metadata": {
        "id": "sbsboJsu7QIm"
      },
      "execution_count": 14,
      "outputs": []
    },
    {
      "cell_type": "markdown",
      "source": [
        "### 3. Define value updation [ i.e. compute gradient and update the w,b ]\n"
      ],
      "metadata": {
        "id": "xruvjFSxbKaw"
      }
    },
    {
      "cell_type": "code",
      "source": [
        "def value_update(learn_rate, y_cap, y_train, w, b, x0_train, x_train):\n",
        "    error = y_cap - y_train\n",
        "    m = x_train.shape[0]\n",
        "\n",
        "    # Update bias (b)\n",
        "    b_update = b - (learn_rate * np.dot(error, x0_train)) / m\n",
        "\n",
        "    # Update weight (w)\n",
        "    w_update = w - (learn_rate * np.dot(error, x_train)) / m\n",
        "\n",
        "    return b_update, w_update"
      ],
      "metadata": {
        "id": "7nZhmwknCzts"
      },
      "execution_count": 15,
      "outputs": []
    },
    {
      "cell_type": "markdown",
      "source": [
        "### 4. Define gradient descent alogrithm"
      ],
      "metadata": {
        "id": "-g4iKiGhbNkl"
      }
    },
    {
      "cell_type": "code",
      "source": [
        "def gradient_descent(learn_rate, w, b, x_train, y_train, max_itr):\n",
        "    m = x_train.shape[0]\n",
        "    x0_train = np.ones(m)  # Bias term\n",
        "\n",
        "    # Initial calculation\n",
        "    y_cap = compute_model_output(x_train, w, b)\n",
        "    J_wb = cost_function(y_cap, y_train)\n",
        "\n",
        "    # Print initial state\n",
        "    print(f\"Initial state: w = {w}, b = {b}, J_wb = {J_wb}\")\n",
        "\n",
        "    for i in range(max_itr):\n",
        "        # Update parameters\n",
        "        b_new, w_new = value_update(learn_rate, y_cap, y_train, w, b, x0_train, x_train)\n",
        "\n",
        "        # Recompute predictions and cost function\n",
        "        y_cap = compute_model_output(x_train, w_new, b_new)\n",
        "        J_wb_previous = J_wb\n",
        "        J_wb = cost_function(y_cap, y_train)\n",
        "\n",
        "        # Print the current state for debugging\n",
        "        print(f\"Iteration {i + 1}: w = {w_new}, b = {b_new}, J_wb = {J_wb}\")\n",
        "\n",
        "        # Check if cost increased (early stopping)\n",
        "        if J_wb > J_wb_previous:\n",
        "            print(\"Cost increased; stopping early.\")\n",
        "            return w, b, J_wb_previous, y_cap\n",
        "\n",
        "        # Update w and b for next iteration\n",
        "        w = w_new\n",
        "        b = b_new\n",
        "\n",
        "    return w, b, J_wb, y_cap\n"
      ],
      "metadata": {
        "id": "UdWrup_R9qip"
      },
      "execution_count": 16,
      "outputs": []
    },
    {
      "cell_type": "markdown",
      "source": [
        "#### test functions"
      ],
      "metadata": {
        "id": "XGmz3zCSP50g"
      }
    },
    {
      "cell_type": "code",
      "source": [
        "w,b=0,5.84;\n",
        "tmp_f_wb = compute_model_output(x_train,w,b)\n",
        "tmp_f_wb"
      ],
      "metadata": {
        "colab": {
          "base_uri": "https://localhost:8080/"
        },
        "id": "BJC1K3ad6-05",
        "outputId": "7e3e5d57-14b5-4c30-f901-33c7937d5159"
      },
      "execution_count": 17,
      "outputs": [
        {
          "output_type": "execute_result",
          "data": {
            "text/plain": [
              "array([5.84, 5.84, 5.84, 5.84, 5.84, 5.84, 5.84, 5.84, 5.84, 5.84, 5.84,\n",
              "       5.84, 5.84, 5.84, 5.84, 5.84, 5.84, 5.84, 5.84, 5.84, 5.84, 5.84,\n",
              "       5.84, 5.84, 5.84, 5.84, 5.84, 5.84, 5.84, 5.84, 5.84, 5.84, 5.84,\n",
              "       5.84, 5.84, 5.84, 5.84, 5.84, 5.84, 5.84, 5.84, 5.84, 5.84, 5.84,\n",
              "       5.84, 5.84, 5.84, 5.84, 5.84, 5.84, 5.84, 5.84, 5.84, 5.84, 5.84,\n",
              "       5.84, 5.84, 5.84, 5.84, 5.84, 5.84, 5.84, 5.84, 5.84, 5.84, 5.84,\n",
              "       5.84, 5.84, 5.84, 5.84, 5.84, 5.84, 5.84, 5.84, 5.84, 5.84, 5.84])"
            ]
          },
          "metadata": {},
          "execution_count": 17
        }
      ]
    },
    {
      "cell_type": "code",
      "source": [
        "tmp_J_wb = cost_function(tmp_f_wb,y_train)\n",
        "tmp_J_wb"
      ],
      "metadata": {
        "colab": {
          "base_uri": "https://localhost:8080/"
        },
        "id": "3hEgktBZ9cqF",
        "outputId": "2b75cf54-a96e-429f-c98d-774fd4fdd36e"
      },
      "execution_count": 18,
      "outputs": [
        {
          "output_type": "execute_result",
          "data": {
            "text/plain": [
              "0.19393926863928146"
            ]
          },
          "metadata": {},
          "execution_count": 18
        }
      ]
    },
    {
      "cell_type": "markdown",
      "source": [
        "#### Define parameter values and perform GDA"
      ],
      "metadata": {
        "id": "UbbHJ0msQA84"
      }
    },
    {
      "cell_type": "code",
      "source": [
        "learning_rate = 0.01\n",
        "max_itr = 100\n",
        "x0_train = np.ones(x_train.shape[0])"
      ],
      "metadata": {
        "id": "_wkzKiwCGzPf"
      },
      "execution_count": 19,
      "outputs": []
    },
    {
      "cell_type": "code",
      "source": [
        "w, b, J_wb, y_cap = gradient_descent(learning_rate, w, b, x_train, y_train, max_itr)\n",
        "print(w, b, J_wb)"
      ],
      "metadata": {
        "colab": {
          "base_uri": "https://localhost:8080/"
        },
        "id": "Wb3JqaNSIU1_",
        "outputId": "deee72d9-92ed-494e-e1c6-d431c9a99de2"
      },
      "execution_count": 20,
      "outputs": [
        {
          "output_type": "stream",
          "name": "stdout",
          "text": [
            "Initial state: w = 0, b = 5.84, J_wb = 0.19393926863928146\n",
            "Iteration 1: w = 0.18641957638194806, b = 5.83960581038961, J_wb = 0.16763407891772145\n",
            "Iteration 2: w = 0.2172713344784004, b = 5.823860463008625, J_wb = 0.16654150289904415\n",
            "Iteration 3: w = 0.22366873468395856, b = 5.805731356265018, J_wb = 0.16607342415966383\n",
            "Iteration 4: w = 0.22621963399291514, b = 5.787256596371557, J_wb = 0.1656224067613908\n",
            "Iteration 5: w = 0.22816309234783527, b = 5.768756470343865, J_wb = 0.16517343843197022\n",
            "Iteration 6: w = 0.23000821661506557, b = 5.750281265839562, J_wb = 0.16472614227716384\n",
            "Iteration 7: w = 0.23183503132898867, b = 5.731838833274079, J_wb = 0.1642805029804359\n",
            "Iteration 8: w = 0.23365611969255873, b = 5.713430353058349, J_wb = 0.16383651417998318\n",
            "Iteration 9: w = 0.23547346475954997, b = 5.695055957339727, J_wb = 0.16339416975738236\n",
            "Iteration 10: w = 0.2372873834879412, b = 5.6767156136029415, J_wb = 0.16295346362230112\n",
            "Iteration 11: w = 0.23909793095614787, b = 5.658409263550523, J_wb = 0.16251438970709767\n",
            "Iteration 12: w = 0.240905121071728, b = 5.640136844931251, J_wb = 0.1620769419666059\n",
            "Iteration 13: w = 0.24270896126144864, b = 5.621898294970872, J_wb = 0.16164111437804907\n",
            "Iteration 14: w = 0.2445094579237397, b = 5.603693550911141, J_wb = 0.16120690094095655\n",
            "Iteration 15: w = 0.24630661728570544, b = 5.585522550094373, J_wb = 0.16077429567708149\n",
            "Iteration 16: w = 0.2481004455378436, b = 5.567385229976535, J_wb = 0.16034329263031818\n",
            "Iteration 17: w = 0.24989094885523838, b = 5.549281528129138, J_wb = 0.15991388586662034\n",
            "Iteration 18: w = 0.2516781334009087, b = 5.531211382239343, J_wb = 0.15948606947391925\n",
            "Iteration 19: w = 0.253462005326353, b = 5.513174730109801, J_wb = 0.15905983756204245\n",
            "Iteration 20: w = 0.2552425707716522, b = 5.495171509658447, J_wb = 0.15863518426263246\n",
            "Iteration 21: w = 0.25701983586550403, b = 5.477201658918287, J_wb = 0.15821210372906636\n",
            "Iteration 22: w = 0.25879380672524605, b = 5.459265116037186, J_wb = 0.1577905901363748\n",
            "Iteration 23: w = 0.26056448945687694, b = 5.441361819277656, J_wb = 0.15737063768116236\n",
            "Iteration 24: w = 0.26233189015507763, b = 5.423491707016638, J_wb = 0.156952240581527\n",
            "Iteration 25: w = 0.26409601490323237, b = 5.405654717745298, J_wb = 0.1565353930769811\n",
            "Iteration 26: w = 0.2658568697734497, b = 5.387850790068808, J_wb = 0.1561200894283717\n",
            "Iteration 27: w = 0.26761446082658313, b = 5.370079862706139, J_wb = 0.15570632391780156\n",
            "Iteration 28: w = 0.2693687941122521, b = 5.352341874489849, J_wb = 0.15529409084855075\n",
            "Iteration 29: w = 0.27111987566886303, b = 5.334636764365874, J_wb = 0.15488338454499775\n",
            "Iteration 30: w = 0.2728677115236296, b = 5.316964471393314, J_wb = 0.1544741993525417\n",
            "Iteration 31: w = 0.274612307692594, b = 5.2993249347442255, J_wb = 0.1540665296375243\n",
            "Iteration 32: w = 0.2763536701806475, b = 5.281718093703413, J_wb = 0.15366036978715225\n",
            "Iteration 33: w = 0.2780918049815509, b = 5.264143887668219, J_wb = 0.15325571420942033\n",
            "Iteration 34: w = 0.27982671807795534, b = 5.246602256148315, J_wb = 0.1528525573330338\n",
            "Iteration 35: w = 0.28155841544142285, b = 5.229093138765495, J_wb = 0.1524508936073323\n",
            "Iteration 36: w = 0.2832869030324472, b = 5.211616475253465, J_wb = 0.15205071750221294\n",
            "Iteration 37: w = 0.2850121868004737, b = 5.1941722054576385, J_wb = 0.15165202350805454\n",
            "Iteration 38: w = 0.28673427268392043, b = 5.176760269334926, J_wb = 0.15125480613564146\n",
            "Iteration 39: w = 0.2884531666101983, b = 5.159380606953532, J_wb = 0.15085905991608836\n",
            "Iteration 40: w = 0.29016887449573153, b = 5.1420331584927474, J_wb = 0.15046477940076458\n",
            "Iteration 41: w = 0.29188140224597786, b = 5.124717864242742, J_wb = 0.15007195916121926\n",
            "Iteration 42: w = 0.2935907557554492, b = 5.1074346646043605, J_wb = 0.14968059378910673\n",
            "Iteration 43: w = 0.2952969409077316, b = 5.090183500088918, J_wb = 0.14929067789611178\n",
            "Iteration 44: w = 0.29699996357550573, b = 5.072964311317993, J_wb = 0.14890220611387578\n",
            "Iteration 45: w = 0.298699829620567, b = 5.055777039023226, J_wb = 0.14851517309392245\n",
            "Iteration 46: w = 0.3003965448938457, b = 5.038621624046112, J_wb = 0.14812957350758432\n",
            "Iteration 47: w = 0.30209011523542734, b = 5.021498007337799, J_wb = 0.14774540204592967\n",
            "Iteration 48: w = 0.30378054647457226, b = 5.004406129958887, J_wb = 0.14736265341968904\n",
            "Iteration 49: w = 0.3054678444297363, b = 4.987345933079219, J_wb = 0.14698132235918251\n",
            "Iteration 50: w = 0.3071520149085904, b = 4.970317357977684, J_wb = 0.14660140361424726\n",
            "Iteration 51: w = 0.308833063708041, b = 4.9533203460420125, J_wb = 0.1462228919541652\n",
            "Iteration 52: w = 0.31051099661424936, b = 4.936354838768577, J_wb = 0.14584578216759103\n",
            "Iteration 53: w = 0.3121858194026521, b = 4.919420777762186, J_wb = 0.1454700690624804\n",
            "Iteration 54: w = 0.31385753783798087, b = 4.902518104735888, J_wb = 0.14509574746601836\n",
            "Iteration 55: w = 0.3155261576742819, b = 4.885646761510768, J_wb = 0.14472281222454833\n",
            "Iteration 56: w = 0.3171916846549363, b = 4.868806690015748, J_wb = 0.14435125820350117\n",
            "Iteration 57: w = 0.31885412451267947, b = 4.8519978322873865, J_wb = 0.14398108028732415\n",
            "Iteration 58: w = 0.32051348296962107, b = 4.835220130469682, J_wb = 0.1436122733794108\n",
            "Iteration 59: w = 0.32216976573726436, b = 4.818473526813868, J_wb = 0.14324483240203076\n",
            "Iteration 60: w = 0.3238229785165263, b = 4.801757963678221, J_wb = 0.14287875229625974\n",
            "Iteration 61: w = 0.32547312699775693, b = 4.785073383527857, J_wb = 0.14251402802191002\n",
            "Iteration 62: w = 0.3271202168607589, b = 4.7684197289345365, J_wb = 0.1421506545574607\n",
            "Iteration 63: w = 0.32876425377480706, b = 4.751796942576464, J_wb = 0.14178862689998914\n",
            "Iteration 64: w = 0.33040524339866834, b = 4.735204967238092, J_wb = 0.14142794006510148\n",
            "Iteration 65: w = 0.33204319138062066, b = 4.718643745809927, J_wb = 0.14106858908686448\n",
            "Iteration 66: w = 0.33367810335847264, b = 4.702113221288328, J_wb = 0.14071056901773682\n",
            "Iteration 67: w = 0.3353099849595831, b = 4.685613336775313, J_wb = 0.14035387492850132\n",
            "Iteration 68: w = 0.33693884180088013, b = 4.669144035478364, J_wb = 0.13999850190819668\n",
            "Iteration 69: w = 0.33856467948888075, b = 4.6527052607102295, J_wb = 0.13964444506405016\n",
            "Iteration 70: w = 0.3401875036197101, b = 4.63629695588873, J_wb = 0.13929169952141018\n",
            "Iteration 71: w = 0.3418073197791206, b = 4.619919064536562, J_wb = 0.13894026042367896\n",
            "Iteration 72: w = 0.3434241335425112, b = 4.603571530281108, J_wb = 0.13859012293224604\n",
            "Iteration 73: w = 0.34503795047494673, b = 4.587254296854239, J_wb = 0.13824128222642143\n",
            "Iteration 74: w = 0.34664877613117684, b = 4.570967308092118, J_wb = 0.13789373350336914\n",
            "Iteration 75: w = 0.34825661605565533, b = 4.554710507935012, J_wb = 0.1375474719780413\n",
            "Iteration 76: w = 0.3498614757825591, b = 4.538483840427099, J_wb = 0.13720249288311218\n",
            "Iteration 77: w = 0.35146336083580715, b = 4.52228724971627, J_wb = 0.13685879146891244\n",
            "Iteration 78: w = 0.35306227672907975, b = 4.506120680053943, J_wb = 0.13651636300336398\n",
            "Iteration 79: w = 0.3546582289658373, b = 4.489984075794867, J_wb = 0.13617520277191453\n",
            "Iteration 80: w = 0.3562512230393393, b = 4.473877381396932, J_wb = 0.1358353060774729\n",
            "Iteration 81: w = 0.35784126443266323, b = 4.457800541420976, J_wb = 0.1354966682403443\n",
            "Iteration 82: w = 0.3594283586187236, b = 4.4417535005305995, J_wb = 0.13515928459816576\n",
            "Iteration 83: w = 0.3610125110602905, b = 4.425736203491968, J_wb = 0.13482315050584218\n",
            "Iteration 84: w = 0.36259372721000854, b = 4.409748595173626, J_wb = 0.13448826133548228\n",
            "Iteration 85: w = 0.3641720125104158, b = 4.393790620546308, J_wb = 0.13415461247633464\n",
            "Iteration 86: w = 0.36574737239396227, b = 4.377862224682744, J_wb = 0.1338221993347247\n",
            "Iteration 87: w = 0.36731981228302873, b = 4.361963352757478, J_wb = 0.13349101733399105\n",
            "Iteration 88: w = 0.3688893375899452, b = 4.346093950046672, J_wb = 0.13316106191442276\n",
            "Iteration 89: w = 0.37045595371700984, b = 4.330253961927924, J_wb = 0.1328323285331963\n",
            "Iteration 90: w = 0.3720196660565075, b = 4.314443333880074, J_wb = 0.13250481266431327\n",
            "Iteration 91: w = 0.37358047999072813, b = 4.29866201148302, J_wb = 0.13217850979853804\n",
            "Iteration 92: w = 0.3751384008919853, b = 4.2829099404175315, J_wb = 0.13185341544333545\n",
            "Iteration 93: w = 0.3766934341226349, b = 4.267187066465059, J_wb = 0.1315295251228091\n",
            "Iteration 94: w = 0.3782455850350934, b = 4.25149333550755, J_wb = 0.13120683437763986\n",
            "Iteration 95: w = 0.3797948589718565, b = 4.235828693527262, J_wb = 0.13088533876502417\n",
            "Iteration 96: w = 0.3813412612655171, b = 4.220193086606577, J_wb = 0.1305650338586133\n",
            "Iteration 97: w = 0.3828847972387841, b = 4.204586460927815, J_wb = 0.13024591524845183\n",
            "Iteration 98: w = 0.3844254722045006, b = 4.1890087627730495, J_wb = 0.1299279785409175\n",
            "Iteration 99: w = 0.38596329146566183, b = 4.173459938523922, J_wb = 0.12961121935866043\n",
            "Iteration 100: w = 0.38749826031543405, b = 4.157939934661459, J_wb = 0.12929563334054284\n",
            "0.38749826031543405 4.157939934661459 0.12929563334054284\n"
          ]
        }
      ]
    },
    {
      "cell_type": "markdown",
      "source": [
        "#### Plot Best Fit Line"
      ],
      "metadata": {
        "id": "EyDIC4ggQLEr"
      }
    },
    {
      "cell_type": "code",
      "source": [
        "# Plot the line\n",
        "plt.plot(x_train, y_cap, color = 'green')\n",
        "plt.scatter(x_train, y_train, c='r', marker='x')\n",
        "\n",
        "plt.xlabel('x')\n",
        "plt.ylabel('y')\n",
        "plt.title('Best Fit Line')"
      ],
      "metadata": {
        "colab": {
          "base_uri": "https://localhost:8080/",
          "height": 0
        },
        "id": "ZeKQopJTIt3k",
        "outputId": "f9e68e3f-7c7d-460a-d6b4-a93a536dac69"
      },
      "execution_count": 21,
      "outputs": [
        {
          "output_type": "execute_result",
          "data": {
            "text/plain": [
              "Text(0.5, 1.0, 'Best Fit Line')"
            ]
          },
          "metadata": {},
          "execution_count": 21
        },
        {
          "output_type": "display_data",
          "data": {
            "text/plain": [
              "<Figure size 640x480 with 1 Axes>"
            ],
            "image/png": "[encoded data removed]"
          },
          "metadata": {}
        }
      ]
    },
    {
      "cell_type": "markdown",
      "source": [
        "## Linear Regression"
      ],
      "metadata": {
        "id": "tI--hUMYnzOj"
      }
    },
    {
      "cell_type": "code",
      "source": [
        "x= x_train\n",
        "y= y_train\n",
        "w = (np.mean(x*y) - np.mean(x)*np.mean(y))/(np.mean(x**2) - np.mean(x)**2)\n",
        "b = np.mean(y) - w*np.mean(x)"
      ],
      "metadata": {
        "id": "cXvZZOqFowc-"
      },
      "execution_count": 22,
      "outputs": []
    },
    {
      "cell_type": "code",
      "source": [
        "y_pred = w*x_test + b"
      ],
      "metadata": {
        "id": "IqFdvO-Eo_72"
      },
      "execution_count": 23,
      "outputs": []
    },
    {
      "cell_type": "code",
      "source": [
        "# Plot the line\n",
        "plt.plot(x_test, y_pred, color = 'green')\n",
        "plt.scatter(x_train, y_train, c='r', marker='x')\n",
        "\n",
        "plt.xlabel('x')\n",
        "plt.ylabel('y')\n",
        "plt.title('Best Fit Line')"
      ],
      "metadata": {
        "colab": {
          "base_uri": "https://localhost:8080/",
          "height": 0
        },
        "id": "M-4Xm4rWpM98",
        "outputId": "08c1f396-9fb6-4e1c-b133-e40a12069fca"
      },
      "execution_count": 24,
      "outputs": [
        {
          "output_type": "execute_result",
          "data": {
            "text/plain": [
              "Text(0.5, 1.0, 'Best Fit Line')"
            ]
          },
          "metadata": {},
          "execution_count": 24
        },
        {
          "output_type": "display_data",
          "data": {
            "text/plain": [
              "<Figure size 640x480 with 1 Axes>"
            ],
            "image/png": "[encoded data removed]"
          },
          "metadata": {}
        }
      ]
    }
  ]
}